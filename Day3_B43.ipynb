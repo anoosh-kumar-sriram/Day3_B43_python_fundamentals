{
 "cells": [
  {
   "cell_type": "code",
   "execution_count": 1,
   "metadata": {},
   "outputs": [],
   "source": [
    "# DAY 3 CONTENTS : string methods , if given a string , how do we convert it into 1) title case, 2) upper case 3) lower case\n",
    "        # f strings , if given two variables how do we concatinate using f string , use title case in it , how to use custom words\n",
    "        # how to use new line delimiter \\n , tab space delimiter \\t , \n",
    "        # when used \\t or by human mistake , if gap is generated in o/p then its called whitespaces , \n",
    "        # to remove whitespaces , we use variable.lstrip() for left spaces , rstrip() for right , strip for both ends ,\n",
    "                                "
   ]
  },
  {
   "cell_type": "code",
   "execution_count": 2,
   "metadata": {},
   "outputs": [
    {
     "name": "stdout",
     "output_type": "stream",
     "text": [
      "anoosh kumar Sriram\n"
     ]
    }
   ],
   "source": [
    "fullname='anoosh kumar Sriram'\n",
    "print(fullname)"
   ]
  },
  {
   "cell_type": "code",
   "execution_count": 3,
   "metadata": {},
   "outputs": [
    {
     "name": "stdout",
     "output_type": "stream",
     "text": [
      "Anoosh Kumar Sriram\n"
     ]
    }
   ],
   "source": [
    "print(fullname.title())   #title case"
   ]
  },
  {
   "cell_type": "code",
   "execution_count": 4,
   "metadata": {},
   "outputs": [
    {
     "name": "stdout",
     "output_type": "stream",
     "text": [
      "ANOOSH KUMAR SRIRAM\n"
     ]
    }
   ],
   "source": [
    "print(fullname.upper())   #upper case"
   ]
  },
  {
   "cell_type": "code",
   "execution_count": 5,
   "metadata": {},
   "outputs": [
    {
     "name": "stdout",
     "output_type": "stream",
     "text": [
      "anoosh kumar sriram\n"
     ]
    }
   ],
   "source": [
    "print(fullname.lower())    #lower case"
   ]
  },
  {
   "cell_type": "code",
   "execution_count": 6,
   "metadata": {},
   "outputs": [],
   "source": [
    "# lets see how to concatinate (f string)"
   ]
  },
  {
   "cell_type": "code",
   "execution_count": 30,
   "metadata": {},
   "outputs": [
    {
     "name": "stdout",
     "output_type": "stream",
     "text": [
      "Anoosh kumar sriram\n"
     ]
    }
   ],
   "source": [
    "firstname = 'Anoosh'     #declared string using single, double, triple quotes\n",
    "middlename = \"kumar\"\n",
    "lastname = '''sriram'''\n",
    "\n",
    "fullname = f\"{firstname} {middlename} {lastname}\" \n",
    "print(fullname)"
   ]
  },
  {
   "cell_type": "code",
   "execution_count": 32,
   "metadata": {},
   "outputs": [
    {
     "name": "stdout",
     "output_type": "stream",
     "text": [
      "Anoosh Kumar Sriram\n"
     ]
    }
   ],
   "source": [
    "#enhancements:\n",
    "print(fullname.title())"
   ]
  },
  {
   "cell_type": "code",
   "execution_count": 33,
   "metadata": {},
   "outputs": [
    {
     "name": "stdout",
     "output_type": "stream",
     "text": [
      "anoosh kumar sriram\n"
     ]
    }
   ],
   "source": [
    "print(fullname.lower())"
   ]
  },
  {
   "cell_type": "code",
   "execution_count": 34,
   "metadata": {},
   "outputs": [
    {
     "name": "stdout",
     "output_type": "stream",
     "text": [
      "ANOOSH KUMAR SRIRAM\n"
     ]
    }
   ],
   "source": [
    "print(fullname.upper())"
   ]
  },
  {
   "cell_type": "code",
   "execution_count": 35,
   "metadata": {},
   "outputs": [],
   "source": [
    "fullname = f\"{firstname.title()} {middlename.lower()} {lastname.upper()}\"  # observation can use string methods directly in place flower brackets\n"
   ]
  },
  {
   "cell_type": "code",
   "execution_count": 36,
   "metadata": {},
   "outputs": [
    {
     "name": "stdout",
     "output_type": "stream",
     "text": [
      "Anoosh kumar SRIRAM\n"
     ]
    }
   ],
   "source": [
    "print(fullname)"
   ]
  },
  {
   "cell_type": "code",
   "execution_count": 39,
   "metadata": {},
   "outputs": [
    {
     "name": "stdout",
     "output_type": "stream",
     "text": [
      "congratulations for the completion of python, Anoosh sriram kumar\n"
     ]
    }
   ],
   "source": [
    "# now let us check what is custom words in f string \n",
    "\n",
    "Email_Message=f\"congratulations for the completion of python, {firstname} {lastname} {middlename}\" \n",
    "\n",
    "print(Email_Message)"
   ]
  },
  {
   "cell_type": "code",
   "execution_count": 41,
   "metadata": {},
   "outputs": [
    {
     "name": "stdout",
     "output_type": "stream",
     "text": [
      "congratulations for the completion of python, Anoosh Sriram Kumar\n"
     ]
    }
   ],
   "source": [
    "#enhancement 1:\n",
    "Email_Message=f\"congratulations for the completion of python, {firstname.title()} {lastname.title()} {middlename.title()}\" \n",
    "print(Email_Message)"
   ]
  },
  {
   "cell_type": "code",
   "execution_count": 44,
   "metadata": {},
   "outputs": [
    {
     "name": "stdout",
     "output_type": "stream",
     "text": [
      "congratulations for the completion of python, Anoosh kumar SRIRAM\n"
     ]
    }
   ],
   "source": [
    "#enhancement 2:\n",
    "Email_Message=f\"congratulations for the completion of python, {fullname}\" \n",
    "print(Email_Message)"
   ]
  },
  {
   "cell_type": "code",
   "execution_count": 45,
   "metadata": {},
   "outputs": [
    {
     "name": "stdout",
     "output_type": "stream",
     "text": [
      "congratulations for the completion of python, Anoosh Kumar Sriram\n"
     ]
    }
   ],
   "source": [
    "#enhancement 3:\n",
    "Email_Message=f\"congratulations for the completion of python, {fullname.title()}\" \n",
    "print(Email_Message)"
   ]
  },
  {
   "cell_type": "code",
   "execution_count": 46,
   "metadata": {},
   "outputs": [],
   "source": [
    "\n",
    "\n",
    "\n",
    "# \\n , \\t , whitespaces"
   ]
  },
  {
   "cell_type": "code",
   "execution_count": 59,
   "metadata": {},
   "outputs": [
    {
     "name": "stdout",
     "output_type": "stream",
     "text": [
      "favorite program lang\n"
     ]
    }
   ],
   "source": [
    "print(\"favorite program lang\")     #observed double quotes are used"
   ]
  },
  {
   "cell_type": "code",
   "execution_count": 60,
   "metadata": {},
   "outputs": [
    {
     "name": "stdout",
     "output_type": "stream",
     "text": [
      "favorite program lang\n"
     ]
    }
   ],
   "source": [
    "print('favorite program lang')     #observed single quotes are used"
   ]
  },
  {
   "cell_type": "code",
   "execution_count": 61,
   "metadata": {},
   "outputs": [
    {
     "ename": "SyntaxError",
     "evalue": "invalid syntax (<ipython-input-61-e56da84a30ee>, line 1)",
     "output_type": "error",
     "traceback": [
      "\u001b[1;36m  File \u001b[1;32m\"<ipython-input-61-e56da84a30ee>\"\u001b[1;36m, line \u001b[1;32m1\u001b[0m\n\u001b[1;33m    type(favorite program lang)\u001b[0m\n\u001b[1;37m                  ^\u001b[0m\n\u001b[1;31mSyntaxError\u001b[0m\u001b[1;31m:\u001b[0m invalid syntax\n"
     ]
    }
   ],
   "source": [
    "type(favorite program lang)"
   ]
  },
  {
   "cell_type": "code",
   "execution_count": 62,
   "metadata": {},
   "outputs": [
    {
     "name": "stdout",
     "output_type": "stream",
     "text": [
      "favorite program lang:pythonjavanodec#\n"
     ]
    }
   ],
   "source": [
    "print('favorite program lang:pythonjavanodec#')"
   ]
  },
  {
   "cell_type": "code",
   "execution_count": 63,
   "metadata": {},
   "outputs": [
    {
     "name": "stdout",
     "output_type": "stream",
     "text": [
      "favorite program lang:\n",
      "python\n",
      "java\n",
      "nodec#\n"
     ]
    }
   ],
   "source": [
    "print('favorite program lang:\\npython\\njava\\nnodec#')    #using new line delimiter \\n"
   ]
  },
  {
   "cell_type": "code",
   "execution_count": 64,
   "metadata": {},
   "outputs": [
    {
     "name": "stdout",
     "output_type": "stream",
     "text": [
      "favorite program lang:\tpython\tjava\tnodec#\n"
     ]
    }
   ],
   "source": [
    "print('favorite program lang:\\tpython\\tjava\\tnodec#')   #using tab delimiter \\t"
   ]
  },
  {
   "cell_type": "code",
   "execution_count": 65,
   "metadata": {},
   "outputs": [
    {
     "name": "stdout",
     "output_type": "stream",
     "text": [
      "favorite program lang:\n",
      "\tpython\n",
      "\tjava\n",
      "\tnodec#\n"
     ]
    }
   ],
   "source": [
    "print('favorite program lang:\\n\\tpython\\n\\tjava\\n\\tnodec#')   #using both \\n and \\t , which generates whitespaces"
   ]
  },
  {
   "cell_type": "code",
   "execution_count": 66,
   "metadata": {},
   "outputs": [
    {
     "name": "stdout",
     "output_type": "stream",
     "text": [
      "favorite program lang:\t\n",
      "python\t\n",
      "java\t\n",
      "nodec#\n"
     ]
    }
   ],
   "source": [
    "print('favorite program lang:\\t\\npython\\t\\njava\\t\\nnodec#')    #doing jumbling"
   ]
  },
  {
   "cell_type": "code",
   "execution_count": 68,
   "metadata": {},
   "outputs": [
    {
     "name": "stdout",
     "output_type": "stream",
     "text": [
      "favorite program lang:\n",
      "python\n",
      "java\t\n",
      "nodec#\n"
     ]
    }
   ],
   "source": [
    "print('favorite program lang:\\npython\\njava\\t\\nnodec#')    #doing jumbling experimenting if \\t works at beginning"
   ]
  },
  {
   "cell_type": "code",
   "execution_count": 69,
   "metadata": {},
   "outputs": [
    {
     "name": "stdout",
     "output_type": "stream",
     "text": [
      "favorite program lang:\n",
      "python\n",
      "\tjava\n",
      "nodec#\n"
     ]
    }
   ],
   "source": [
    "print('favorite program lang:\\npython\\n\\tjava\\nnodec#')    #doing jumbling experimenting if \\t works at beginning"
   ]
  },
  {
   "cell_type": "code",
   "execution_count": 70,
   "metadata": {},
   "outputs": [
    {
     "name": "stdout",
     "output_type": "stream",
     "text": [
      "favorite program lang:\n",
      "python\n",
      "\tjava\n",
      "\t\tnodec#\n"
     ]
    }
   ],
   "source": [
    "print('favorite program lang:\\npython\\n\\tjava\\n\\t\\tnodec#')    #doing  experimenting if more \\t works "
   ]
  },
  {
   "cell_type": "code",
   "execution_count": null,
   "metadata": {},
   "outputs": [],
   "source": []
  },
  {
   "cell_type": "code",
   "execution_count": 71,
   "metadata": {},
   "outputs": [],
   "source": [
    "# removal of that whitespaces:"
   ]
  },
  {
   "cell_type": "code",
   "execution_count": 82,
   "metadata": {},
   "outputs": [],
   "source": [
    "name1=\"    anoosh\"\n",
    "name2=\"priya    \"\n",
    "name3=\"    sharma    \"\n"
   ]
  },
  {
   "cell_type": "code",
   "execution_count": 77,
   "metadata": {},
   "outputs": [
    {
     "data": {
      "text/plain": [
       "'anoosh'"
      ]
     },
     "execution_count": 77,
     "metadata": {},
     "output_type": "execute_result"
    }
   ],
   "source": [
    "name1.lstrip()          "
   ]
  },
  {
   "cell_type": "code",
   "execution_count": 78,
   "metadata": {},
   "outputs": [
    {
     "data": {
      "text/plain": [
       "'    anoosh'"
      ]
     },
     "execution_count": 78,
     "metadata": {},
     "output_type": "execute_result"
    }
   ],
   "source": [
    "name1.rstrip()"
   ]
  },
  {
   "cell_type": "code",
   "execution_count": 79,
   "metadata": {},
   "outputs": [
    {
     "data": {
      "text/plain": [
       "'anoosh'"
      ]
     },
     "execution_count": 79,
     "metadata": {},
     "output_type": "execute_result"
    }
   ],
   "source": [
    "name1.strip()"
   ]
  },
  {
   "cell_type": "code",
   "execution_count": 83,
   "metadata": {},
   "outputs": [
    {
     "data": {
      "text/plain": [
       "'priya'"
      ]
     },
     "execution_count": 83,
     "metadata": {},
     "output_type": "execute_result"
    }
   ],
   "source": [
    "name2.rstrip()\n"
   ]
  },
  {
   "cell_type": "code",
   "execution_count": 84,
   "metadata": {},
   "outputs": [
    {
     "data": {
      "text/plain": [
       "'priya    '"
      ]
     },
     "execution_count": 84,
     "metadata": {},
     "output_type": "execute_result"
    }
   ],
   "source": [
    "name2.lstrip()             #output has single quotation , denoting its a string \n"
   ]
  },
  {
   "cell_type": "code",
   "execution_count": 85,
   "metadata": {},
   "outputs": [
    {
     "data": {
      "text/plain": [
       "'priya'"
      ]
     },
     "execution_count": 85,
     "metadata": {},
     "output_type": "execute_result"
    }
   ],
   "source": [
    "name2.strip()\n"
   ]
  },
  {
   "cell_type": "code",
   "execution_count": 86,
   "metadata": {},
   "outputs": [
    {
     "name": "stdout",
     "output_type": "stream",
     "text": [
      "anoosh\n"
     ]
    }
   ],
   "source": [
    "print(name1.strip())     #output has no quotation "
   ]
  },
  {
   "cell_type": "code",
   "execution_count": 87,
   "metadata": {},
   "outputs": [
    {
     "data": {
      "text/plain": [
       "'Anoosh Kumar Sriram'"
      ]
     },
     "execution_count": 87,
     "metadata": {},
     "output_type": "execute_result"
    }
   ],
   "source": [
    "fullname.title()          #output has single quotation , denoting its a string"
   ]
  },
  {
   "cell_type": "code",
   "execution_count": 88,
   "metadata": {},
   "outputs": [
    {
     "name": "stdout",
     "output_type": "stream",
     "text": [
      "Anoosh Kumar Sriram\n"
     ]
    }
   ],
   "source": [
    "print(fullname.title())   #output has no quotation "
   ]
  },
  {
   "cell_type": "code",
   "execution_count": null,
   "metadata": {},
   "outputs": [],
   "source": []
  }
 ],
 "metadata": {
  "kernelspec": {
   "display_name": "Python 3",
   "language": "python",
   "name": "python3"
  },
  "language_info": {
   "codemirror_mode": {
    "name": "ipython",
    "version": 3
   },
   "file_extension": ".py",
   "mimetype": "text/x-python",
   "name": "python",
   "nbconvert_exporter": "python",
   "pygments_lexer": "ipython3",
   "version": "3.8.5"
  }
 },
 "nbformat": 4,
 "nbformat_minor": 4
}
